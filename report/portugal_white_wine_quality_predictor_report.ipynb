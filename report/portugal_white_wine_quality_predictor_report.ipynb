{
 "cells": [
  {
   "cell_type": "markdown",
   "id": "2df59e0e-e811-4c4d-b3cf-7fb6329a502d",
   "metadata": {
    "editable": true,
    "slideshow": {
     "slide_type": ""
    },
    "tags": []
   },
   "source": [
    "## Predicting Portugal white wine quality\n",
    "\n",
    "by Kittipong Wongwipasamitkun, Nicole Tu, Sho Inagaki\n",
    "2023/12/02"
   ]
  },
  {
   "cell_type": "code",
   "execution_count": 34,
   "id": "afa004b8-3f5e-421f-90af-e4e8ae700dac",
   "metadata": {
    "editable": true,
    "slideshow": {
     "slide_type": ""
    },
    "tags": [
     "remove-input"
    ]
   },
   "outputs": [],
   "source": [
    "import numpy as np\n",
    "import pandas as pd\n",
    "import altair as alt\n",
    "from sklearn import set_config\n",
    "from sklearn.model_selection import train_test_split\n",
    "from sklearn.preprocessing import PolynomialFeatures, StandardScaler\n",
    "from sklearn.compose import make_column_transformer, make_column_selector\n",
    "from sklearn.pipeline import make_pipeline\n",
    "from sklearn.model_selection import GridSearchCV\n",
    "from sklearn.model_selection import RandomizedSearchCV\n",
    "from sklearn.metrics import fbeta_score, make_scorer\n",
    "import matplotlib.pyplot as plt\n",
    "#import seaborn as sns\n",
    "from sklearn.impute import SimpleImputer\n",
    "from sklearn.linear_model import Ridge\n",
    "from sklearn.metrics import mean_squared_error\n",
    "from scipy.stats import uniform\n",
    "import warnings\n",
    "alt.data_transformers.enable('vegafusion')  # simplify working with large datasets\n",
    "warnings.filterwarnings(\"ignore\", category=FutureWarning)\n",
    "\n",
    "import sys\n",
    "import os\n",
    "sys.path.append(os.path.join(os.path.dirname('__file__'), '..'))\n",
    "# sys.path.append(os.path.join(os.path.dirname(os.getcwd()), '..'))\n",
    "\n",
    "from src.functions import calculate_model_scores\n",
    "from src.functions import calculate_model_scores\n",
    "from src.functions import calculate_model_scores\n",
    "\n",
    "#from functions import download_and_extract_data, create_repeated_scatter_chart, calculate_model_scores\n"
   ]
  },
  {
   "cell_type": "markdown",
   "id": "bfc2a9af-f72f-4970-805f-fc1a37a0dcd4",
   "metadata": {},
   "source": [
    "## References"
   ]
  },
  {
   "cell_type": "markdown",
   "id": "717a060f-ee85-498d-9345-50374ceb82ab",
   "metadata": {},
   "source": [
    "```{bibliography}\n",
    "\n",
    "```"
   ]
  },
  {
   "cell_type": "markdown",
   "id": "6ad13df1-0acb-442b-b231-08a4a5c4b05d",
   "metadata": {},
   "source": [
    "```{bibliography}\n",
    "\n",
    "```"
   ]
  }
 ],
 "metadata": {
  "kernelspec": {
   "display_name": "Python [conda env:portugal_white_wine_quality_predictor]",
   "language": "python",
   "name": "conda-env-portugal_white_wine_quality_predictor-py"
  },
  "language_info": {
   "codemirror_mode": {
    "name": "ipython",
    "version": 3
   },
   "file_extension": ".py",
   "mimetype": "text/x-python",
   "name": "python",
   "nbconvert_exporter": "python",
   "pygments_lexer": "ipython3",
   "version": "3.11.6"
  }
 },
 "nbformat": 4,
 "nbformat_minor": 5
}
